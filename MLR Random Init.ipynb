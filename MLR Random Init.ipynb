{
 "cells": [
  {
   "cell_type": "code",
   "execution_count": 1,
   "id": "accompanied-tumor",
   "metadata": {},
   "outputs": [],
   "source": [
    "import numpy as np\n",
    "import scipy\n",
    "import pandas as pd\n",
    "import os\n",
    "# from tqdm import trange\n",
    "from tqdm.auto import tqdm\n",
    "from empirical_updates import SecondOrderEmpirical, FirstOrderEmpirical\n",
    "from gordon_updates import GordonUpdate\n",
    "import matplotlib.pyplot as plt\n",
    "import seaborn as sns\n",
    "sns.set_style('whitegrid')\n",
    "# sns.reset_orig()\n",
    "import matplotlib\n",
    "matplotlib.rc('font', **{'family': 'serif', 'serif': ['Computer Modern']})\n",
    "matplotlib.rc('text', usetex=True)\n",
    "\n",
    "params = {'figure.figsize': (12.0, 8.0),\n",
    "          'lines.linewidth': 2.,\n",
    "          'legend.fontsize': 'xx-large',\n",
    "          'axes.labelsize': 'x-large',\n",
    "          'axes.titlesize': 'x-large',\n",
    "          'xtick.labelsize': 'x-large',\n",
    "          'ytick.labelsize': 'x-large'}\n",
    "\n",
    "plt.rcParams.update(params)\n",
    "%load_ext autoreload\n",
    "%autoreload 2"
   ]
  },
  {
   "cell_type": "code",
   "execution_count": 4,
   "id": "paperback-crowd",
   "metadata": {},
   "outputs": [
    {
     "data": {
      "application/vnd.jupyter.widget-view+json": {
       "model_id": "",
       "version_major": 2,
       "version_minor": 0
      },
      "text/plain": [
       "  0%|          | 0/16 [00:00<?, ?it/s]"
      ]
     },
     "metadata": {},
     "output_type": "display_data"
    },
    {
     "name": "stdout",
     "output_type": "stream",
     "text": [
      "found a good instance!\n"
     ]
    },
    {
     "data": {
      "application/vnd.jupyter.widget-view+json": {
       "model_id": "13767614940d4968a33dbd4d99ab5b2e",
       "version_major": 2,
       "version_minor": 0
      },
      "text/plain": [
       "  0%|          | 0/10 [00:00<?, ?it/s]"
      ]
     },
     "metadata": {},
     "output_type": "display_data"
    },
    {
     "data": {
      "application/vnd.jupyter.widget-view+json": {
       "model_id": "",
       "version_major": 2,
       "version_minor": 0
      },
      "text/plain": [
       "  0%|          | 0/16 [00:00<?, ?it/s]"
      ]
     },
     "metadata": {},
     "output_type": "display_data"
    },
    {
     "data": {
      "application/vnd.jupyter.widget-view+json": {
       "model_id": "",
       "version_major": 2,
       "version_minor": 0
      },
      "text/plain": [
       "  0%|          | 0/16 [00:00<?, ?it/s]"
      ]
     },
     "metadata": {},
     "output_type": "display_data"
    },
    {
     "data": {
      "application/vnd.jupyter.widget-view+json": {
       "model_id": "",
       "version_major": 2,
       "version_minor": 0
      },
      "text/plain": [
       "  0%|          | 0/16 [00:00<?, ?it/s]"
      ]
     },
     "metadata": {},
     "output_type": "display_data"
    },
    {
     "data": {
      "application/vnd.jupyter.widget-view+json": {
       "model_id": "",
       "version_major": 2,
       "version_minor": 0
      },
      "text/plain": [
       "  0%|          | 0/16 [00:00<?, ?it/s]"
      ]
     },
     "metadata": {},
     "output_type": "display_data"
    },
    {
     "data": {
      "application/vnd.jupyter.widget-view+json": {
       "model_id": "",
       "version_major": 2,
       "version_minor": 0
      },
      "text/plain": [
       "  0%|          | 0/16 [00:00<?, ?it/s]"
      ]
     },
     "metadata": {},
     "output_type": "display_data"
    },
    {
     "data": {
      "application/vnd.jupyter.widget-view+json": {
       "model_id": "",
       "version_major": 2,
       "version_minor": 0
      },
      "text/plain": [
       "  0%|          | 0/16 [00:00<?, ?it/s]"
      ]
     },
     "metadata": {},
     "output_type": "display_data"
    },
    {
     "data": {
      "application/vnd.jupyter.widget-view+json": {
       "model_id": "",
       "version_major": 2,
       "version_minor": 0
      },
      "text/plain": [
       "  0%|          | 0/16 [00:00<?, ?it/s]"
      ]
     },
     "metadata": {},
     "output_type": "display_data"
    },
    {
     "data": {
      "application/vnd.jupyter.widget-view+json": {
       "model_id": "",
       "version_major": 2,
       "version_minor": 0
      },
      "text/plain": [
       "  0%|          | 0/16 [00:00<?, ?it/s]"
      ]
     },
     "metadata": {},
     "output_type": "display_data"
    },
    {
     "data": {
      "application/vnd.jupyter.widget-view+json": {
       "model_id": "",
       "version_major": 2,
       "version_minor": 0
      },
      "text/plain": [
       "  0%|          | 0/16 [00:00<?, ?it/s]"
      ]
     },
     "metadata": {},
     "output_type": "display_data"
    },
    {
     "data": {
      "application/vnd.jupyter.widget-view+json": {
       "model_id": "",
       "version_major": 2,
       "version_minor": 0
      },
      "text/plain": [
       "  0%|          | 0/16 [00:00<?, ?it/s]"
      ]
     },
     "metadata": {},
     "output_type": "display_data"
    }
   ],
   "source": [
    "### Set problem parameters for AM\n",
    "delta = 100 # over sampling\n",
    "sigma = 10e-6 # noise std\n",
    "d = 800 # dimension\n",
    "thetastar = np.random.normal(0, 1, d)\n",
    "thetastar = thetastar/np.linalg.norm(thetastar) # ground truth\n",
    "\n",
    "AM = SecondOrderEmpirical(thetastar, delta, sigma) # second order updates\n",
    "AM.initialize() # initialize with eps correlation\n",
    "thetacur_MLR = AM.thetainit # set the initial theta\n",
    "T = 16 # number of iterations\n",
    "\n",
    "### Make the gordon lists\n",
    "Gordon = GordonUpdate(sigma, delta)\n",
    "alpha_list_gor_AM_MLR, beta_list_gor_AM_MLR = [], []\n",
    "alpha_list_gor_AM_MLR.append(AM.get_alpha(thetacur_MLR))\n",
    "beta_list_gor_AM_MLR.append(AM.get_beta(thetacur_MLR))\n",
    "\n",
    "### Find converging instance \n",
    "converging = False\n",
    "while not converging:\n",
    "    AM.initialize()\n",
    "    thetacur_MLR = AM.thetainit\n",
    "    \n",
    "    ### Iterate and update\n",
    "    for t in tqdm(range(T), leave=False):\n",
    "        ### Resample the data\n",
    "        AM.update_data()\n",
    "\n",
    "        ### Iterate and update MLR\n",
    "        thetacur_MLR = AM.iterate_MLR(thetacur_MLR) \n",
    "    if np.linalg.norm(thetacur_MLR - thetastar) < 0.01:\n",
    "        converging = True\n",
    "print('found a good instance!')\n",
    "        \n",
    "### Run AM from this initialization\n",
    "num_trials = 10\n",
    "alpha_AM_MLR, beta_AM_MLR = [], []\n",
    "for _ in tqdm(range(num_trials)):\n",
    "    ### Make the empirical lists\n",
    "    alpha_list_AM_MLR, beta_list_AM_MLR = [], []\n",
    "    alpha_list_AM_MLR.append(AM.get_alpha(AM.thetainit)) # initial alpha value\n",
    "    beta_list_AM_MLR.append(AM.get_beta(AM.thetainit)) # initial beta value\n",
    "    \n",
    "    thetacur_MLR = AM.thetainit\n",
    "    \n",
    "    ### Iterate and update\n",
    "    for t in tqdm(range(T), leave=False):\n",
    "        ### Resample the data\n",
    "        AM.update_data()\n",
    "\n",
    "        ### Iterate and update MLR\n",
    "        thetacur_MLR = AM.iterate_MLR(thetacur_MLR) \n",
    "        alpha_list_AM_MLR.append(AM.get_alpha(thetacur_MLR))\n",
    "        beta_list_AM_MLR.append(AM.get_beta(thetacur_MLR)) \n",
    "        \n",
    "    alpha_list_AM_MLR = np.array(alpha_list_AM_MLR)\n",
    "    beta_list_AM_MLR = np.array(beta_list_AM_MLR)\n",
    "    dist_list_AM_MLR = np.sqrt(beta_list_AM_MLR**2 + (alpha_list_AM_MLR  - 1)**2)\n",
    "    if dist_list_AM_MLR[-1] < 0.01:\n",
    "        alpha_AM_MLR.append(alpha_list_AM_MLR)\n",
    "        beta_AM_MLR.append(beta_list_AM_MLR)\n",
    "alpha_AM_MLR, beta_AM_MLR = np.array(alpha_AM_MLR), np.array(beta_AM_MLR)\n",
    "\n",
    "### Make the distance list, average list, and empirical envelope\n",
    "angle_list_AM_MLR = np.arctan(beta_AM_MLR/alpha_AM_MLR)\n",
    "avg_angle_AM_MLR = np.mean(angle_list_AM_MLR, axis=0)\n",
    "upper_AM_MLR = np.percentile(angle_list_AM_MLR, 97.5, axis=0)\n",
    "lower_AM_MLR = np.percentile(angle_list_AM_MLR, 2.5, axis=0)"
   ]
  },
  {
   "cell_type": "code",
   "execution_count": 6,
   "id": "dietary-cookbook",
   "metadata": {},
   "outputs": [
    {
     "data": {
      "application/vnd.jupyter.widget-view+json": {
       "model_id": "46c39d145ab64af39ea2acf2380a3bb6",
       "version_major": 2,
       "version_minor": 0
      },
      "text/plain": [
       "  0%|          | 0/16 [00:00<?, ?it/s]"
      ]
     },
     "metadata": {},
     "output_type": "display_data"
    }
   ],
   "source": [
    "### Make the gordon list\n",
    "alpha_list_gor_AM_MLR = [np.mean(alpha_AM_MLR, axis=0)[0]]\n",
    "beta_list_gor_AM_MLR = [np.mean(beta_AM_MLR, axis=0)[0]]\n",
    "for t in tqdm(range(T)):\n",
    "    alpha_next_AM_MLR, beta_next_AM_MLR = Gordon.AM_MLR_gordon(alpha_list_gor_AM_MLR[-1], beta_list_gor_AM_MLR[-1])\n",
    "    alpha_list_gor_AM_MLR.append(alpha_next_AM_MLR)\n",
    "    beta_list_gor_AM_MLR.append(beta_next_AM_MLR)\n",
    "\n",
    "alpha_list_gor_AM_MLR, beta_list_gor_AM_MLR = np.array(alpha_list_gor_AM_MLR), np.array(beta_list_gor_AM_MLR)\n",
    "dist_list_gor_AM_MLR = np.sqrt(beta_list_gor_AM_MLR**2 + (alpha_list_gor_AM_MLR - 1)**2)\n",
    "angle_list_gor_AM_MLR = np.arctan(beta_list_gor_AM_MLR/alpha_list_gor_AM_MLR)"
   ]
  },
  {
   "cell_type": "code",
   "execution_count": 10,
   "id": "pleased-castle",
   "metadata": {},
   "outputs": [
    {
     "data": {
      "text/plain": [
       "<matplotlib.legend.Legend at 0x10c4d9760>"
      ]
     },
     "execution_count": 10,
     "metadata": {},
     "output_type": "execute_result"
    },
    {
     "data": {
      "image/png": "[encoded data removed]",
      "text/plain": [
       "<Figure size 864x576 with 1 Axes>"
      ]
     },
     "metadata": {},
     "output_type": "display_data"
    }
   ],
   "source": [
    "plt.plot(np.arange(T + 1), np.abs(avg_angle_AM_MLR)\\\n",
    "         , marker='o', linewidth=1, color = 'steelblue', label='Empirical AM')\n",
    "# plt.plot(np.arange(T + 1), np.abs(avg_dist_GD_PR)\\\n",
    "#          , marker='o', linewidth=1, color = 'mediumseagreen', label='Empirical GD')\n",
    "plt.plot(np.arange(T + 1), np.abs(angle_list_gor_AM_MLR)\\\n",
    "         , marker='*', linewidth=1, color = 'dimgray', label='AM Gordon')\n",
    "# plt.plot(np.arange(T + 1), np.abs(dist_list_gor_GD_PR)\\\n",
    "#          , marker='*', linewidth=1, color = 'dimgray', label='GD Gordon')\n",
    "plt.fill_between(np.arange(T+1), lower_AM_MLR, upper_AM_MLR, color='steelblue', alpha=0.2)\n",
    "# plt.fill_between(np.arange(T+1), lower_GD_PR, upper_GD_PR, color='mediumseagreen', alpha=0.2)\n",
    "plt.semilogy()\n",
    "plt.ylabel(r'$\\ell_2$ distance between iterate and ground truth')\n",
    "plt.xlabel('Iteration')\n",
    "plt.title('Alternating minimization for MLR; high noise')\n",
    "plt.legend()"
   ]
  },
  {
   "cell_type": "code",
   "execution_count": 12,
   "id": "tropical-quantity",
   "metadata": {},
   "outputs": [
    {
     "data": {
      "application/vnd.jupyter.widget-view+json": {
       "model_id": "b678d5710fc84a16b5cc657cd7ae68f7",
       "version_major": 2,
       "version_minor": 0
      },
      "text/plain": [
       "  0%|          | 0/10 [00:00<?, ?it/s]"
      ]
     },
     "metadata": {},
     "output_type": "display_data"
    },
    {
     "data": {
      "application/vnd.jupyter.widget-view+json": {
       "model_id": "",
       "version_major": 2,
       "version_minor": 0
      },
      "text/plain": [
       "  0%|          | 0/16 [00:00<?, ?it/s]"
      ]
     },
     "metadata": {},
     "output_type": "display_data"
    },
    {
     "data": {
      "application/vnd.jupyter.widget-view+json": {
       "model_id": "",
       "version_major": 2,
       "version_minor": 0
      },
      "text/plain": [
       "  0%|          | 0/16 [00:00<?, ?it/s]"
      ]
     },
     "metadata": {},
     "output_type": "display_data"
    },
    {
     "data": {
      "application/vnd.jupyter.widget-view+json": {
       "model_id": "",
       "version_major": 2,
       "version_minor": 0
      },
      "text/plain": [
       "  0%|          | 0/16 [00:00<?, ?it/s]"
      ]
     },
     "metadata": {},
     "output_type": "display_data"
    },
    {
     "data": {
      "application/vnd.jupyter.widget-view+json": {
       "model_id": "",
       "version_major": 2,
       "version_minor": 0
      },
      "text/plain": [
       "  0%|          | 0/16 [00:00<?, ?it/s]"
      ]
     },
     "metadata": {},
     "output_type": "display_data"
    },
    {
     "data": {
      "application/vnd.jupyter.widget-view+json": {
       "model_id": "",
       "version_major": 2,
       "version_minor": 0
      },
      "text/plain": [
       "  0%|          | 0/16 [00:00<?, ?it/s]"
      ]
     },
     "metadata": {},
     "output_type": "display_data"
    },
    {
     "data": {
      "application/vnd.jupyter.widget-view+json": {
       "model_id": "",
       "version_major": 2,
       "version_minor": 0
      },
      "text/plain": [
       "  0%|          | 0/16 [00:00<?, ?it/s]"
      ]
     },
     "metadata": {},
     "output_type": "display_data"
    },
    {
     "data": {
      "application/vnd.jupyter.widget-view+json": {
       "model_id": "",
       "version_major": 2,
       "version_minor": 0
      },
      "text/plain": [
       "  0%|          | 0/16 [00:00<?, ?it/s]"
      ]
     },
     "metadata": {},
     "output_type": "display_data"
    },
    {
     "data": {
      "application/vnd.jupyter.widget-view+json": {
       "model_id": "",
       "version_major": 2,
       "version_minor": 0
      },
      "text/plain": [
       "  0%|          | 0/16 [00:00<?, ?it/s]"
      ]
     },
     "metadata": {},
     "output_type": "display_data"
    },
    {
     "data": {
      "application/vnd.jupyter.widget-view+json": {
       "model_id": "",
       "version_major": 2,
       "version_minor": 0
      },
      "text/plain": [
       "  0%|          | 0/16 [00:00<?, ?it/s]"
      ]
     },
     "metadata": {},
     "output_type": "display_data"
    },
    {
     "data": {
      "application/vnd.jupyter.widget-view+json": {
       "model_id": "",
       "version_major": 2,
       "version_minor": 0
      },
      "text/plain": [
       "  0%|          | 0/16 [00:00<?, ?it/s]"
      ]
     },
     "metadata": {},
     "output_type": "display_data"
    },
    {
     "data": {
      "application/vnd.jupyter.widget-view+json": {
       "model_id": "1d6687ff7bed40b9a08c44b36ccbaeaa",
       "version_major": 2,
       "version_minor": 0
      },
      "text/plain": [
       "  0%|          | 0/16 [00:00<?, ?it/s]"
      ]
     },
     "metadata": {},
     "output_type": "display_data"
    }
   ],
   "source": [
    "### First order\n",
    "GD = FirstOrderEmpirical(thetastar, delta, sigma)\n",
    "num_trials = 10\n",
    "alpha_GD_MLR, beta_GD_MLR = [], []\n",
    "for _ in tqdm(range(num_trials)):\n",
    "    ### Make the empirical lists\n",
    "    alpha_list_GD_MLR, beta_list_GD_MLR = [], []\n",
    "    alpha_list_GD_MLR.append(GD.get_alpha(AM.thetainit)) # initial alpha value\n",
    "    beta_list_GD_MLR.append(GD.get_beta(AM.thetainit)) # initial beta value\n",
    "    \n",
    "    thetacur_MLR = AM.thetainit\n",
    "    ### Iterate and update\n",
    "    for t in tqdm(range(T), leave=False):\n",
    "        ### Resample the data\n",
    "        GD.update_data()\n",
    "\n",
    "        ### Iterate and update MLR\n",
    "        thetacur_MLR = GD.iterate_MLR(thetacur_MLR, 0.5) \n",
    "        alpha_list_GD_MLR.append(AM.get_alpha(thetacur_MLR))\n",
    "        beta_list_GD_MLR.append(AM.get_beta(thetacur_MLR)) \n",
    "\n",
    "    alpha_list_GD_MLR = np.array(alpha_list_GD_MLR)\n",
    "    beta_list_GD_MLR = np.array(beta_list_GD_MLR)\n",
    "    alpha_GD_MLR.append(alpha_list_GD_MLR)\n",
    "    beta_GD_MLR.append(beta_list_GD_MLR)\n",
    "alpha_GD_MLR, beta_GD_MLR = np.array(alpha_GD_MLR), np.array(beta_GD_MLR)\n",
    "\n",
    "### Make the distance list, average list, and empirical envelope\n",
    "dist_list_GD_MLR = np.sqrt(beta_GD_MLR**2 + (alpha_GD_MLR  - 1)**2)\n",
    "avg_dist_GD_MLR = np.mean(dist_list_GD_MLR, axis=0)\n",
    "upper_GD_MLR = np.percentile(dist_list_GD_MLR, 97.5, axis=0)\n",
    "lower_GD_MLR = np.percentile(dist_list_GD_MLR, 2.5, axis=0)\n",
    "\n",
    "### Gordon data GD\n",
    "alpha_list_gor_GD_MLR, beta_list_gor_GD_MLR = [], []\n",
    "alpha_list_gor_GD_MLR.append(AM.get_alpha(AM.thetainit))\n",
    "beta_list_gor_GD_MLR.append(AM.get_beta(AM.thetainit))\n",
    "for t in tqdm(range(T)):\n",
    "    alpha_next_GD_MLR, beta_next_GD_MLR = Gordon.GD_MLR_gordon(alpha_list_gor_GD_MLR[-1], beta_list_gor_GD_MLR[-1], 0.5)\n",
    "    alpha_list_gor_GD_MLR.append(alpha_next_GD_MLR)\n",
    "    beta_list_gor_GD_MLR.append(beta_next_GD_MLR)\n",
    "\n",
    "alpha_list_gor_GD_MLR, beta_list_gor_GD_MLR = np.array(alpha_list_gor_GD_MLR), np.array(beta_list_gor_GD_MLR)\n",
    "dist_list_gor_GD_MLR = np.sqrt(beta_list_gor_GD_MLR**2 + (alpha_list_gor_GD_MLR - 1)**2)\n",
    "angle_list_gor_GD_MLR = np.arctan(beta_list_gor_GD_MLR/alpha_list_gor_GD_MLR)"
   ]
  },
  {
   "cell_type": "code",
   "execution_count": 15,
   "id": "caroline-mason",
   "metadata": {},
   "outputs": [],
   "source": [
    "### Make the distance list, average list, and empirical envelope\n",
    "angle_list_GD_MLR = np.arctan(beta_GD_MLR/alpha_GD_MLR)\n",
    "avg_angle_GD_MLR = np.mean(angle_list_GD_MLR, axis=0)\n",
    "upper_GD_MLR = np.percentile(angle_list_GD_MLR, 97.5, axis=0)\n",
    "lower_GD_MLR = np.percentile(angle_list_GD_MLR, 2.5, axis=0)"
   ]
  },
  {
   "cell_type": "code",
   "execution_count": 16,
   "id": "annoying-lawrence",
   "metadata": {},
   "outputs": [
    {
     "data": {
      "text/plain": [
       "<matplotlib.legend.Legend at 0x1215030a0>"
      ]
     },
     "execution_count": 16,
     "metadata": {},
     "output_type": "execute_result"
    },
    {
     "data": {
      "image/png": "[encoded data removed]",
      "text/plain": [
       "<Figure size 864x576 with 1 Axes>"
      ]
     },
     "metadata": {},
     "output_type": "display_data"
    }
   ],
   "source": [
    "plt.plot(np.arange(T + 1), np.abs(avg_angle_GD_MLR)\\\n",
    "         , marker='o', linewidth=1, color = 'steelblue', label='Empirical AM')\n",
    "# plt.plot(np.arange(T + 1), np.abs(avg_dist_GD_MLR)\\\n",
    "#          , marker='o', linewidth=1, color = 'mediumseagreen', label='Empirical GD')\n",
    "plt.plot(np.arange(T + 1), np.abs(angle_list_gor_GD_MLR)\\\n",
    "         , marker='*', linewidth=1, color = 'dimgray', label='AM Gordon')\n",
    "# plt.plot(np.arange(T + 1), np.abs(dist_list_gor_GD_MLR)\\\n",
    "#          , marker='*', linewidth=1, color = 'dimgray', label='GD Gordon')\n",
    "plt.fill_between(np.arange(T+1), lower_GD_MLR, upper_GD_MLR, color='steelblue', alpha=0.2)\n",
    "# plt.fill_between(np.arange(T+1), lower_GD_MLR, upper_GD_MLR, color='mediumseagreen', alpha=0.2)\n",
    "plt.semilogy()\n",
    "plt.ylabel(r'$\\ell_2$ distance between iterate and ground truth')\n",
    "plt.xlabel('Iteration')\n",
    "plt.title('Alternating minimization for phase retrieval; high noise')\n",
    "plt.legend()"
   ]
  },
  {
   "cell_type": "code",
   "execution_count": 18,
   "id": "limited-validity",
   "metadata": {},
   "outputs": [],
   "source": [
    "### Save data in .dat file\n",
    "data = np.array([np.arange(T+1)\\\n",
    "                 , avg_angle_AM_MLR\\\n",
    "                 , lower_AM_MLR\\\n",
    "                 , upper_AM_MLR\\\n",
    "                 , angle_list_gor_AM_MLR\\\n",
    "                 , avg_angle_GD_MLR\\\n",
    "                 , lower_GD_MLR\\\n",
    "                 , upper_GD_MLR\\\n",
    "                 , angle_list_gor_GD_MLR]).transpose()\n",
    "np.savetxt('global-MLR', data, \\\n",
    "            fmt=['%.0f'\\\n",
    "                 , '%.8f', '%.8f', '%.8f', '%.8f'\\\n",
    "                 , '%.8f', '%.8f', '%.8f', '%.8f'], \\\n",
    "            header='iter avgAM lowerAM upperAM gorAM avgGD lowerGD upperGD gorGD', \\\n",
    "            comments='# ')"
   ]
  }
 ],
 "metadata": {
  "kernelspec": {
   "display_name": "Python 3",
   "language": "python",
   "name": "python3"
  },
  "language_info": {
   "codemirror_mode": {
    "name": "ipython",
    "version": 3
   },
   "file_extension": ".py",
   "mimetype": "text/x-python",
   "name": "python",
   "nbconvert_exporter": "python",
   "pygments_lexer": "ipython3",
   "version": "3.9.0"
  }
 },
 "nbformat": 4,
 "nbformat_minor": 5
}
