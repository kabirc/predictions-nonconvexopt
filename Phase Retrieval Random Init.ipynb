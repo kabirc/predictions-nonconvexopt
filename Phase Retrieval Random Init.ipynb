{
 "cells": [
  {
   "cell_type": "code",
   "execution_count": 1,
   "id": "disciplinary-scotland",
   "metadata": {},
   "outputs": [],
   "source": [
    "import numpy as np\n",
    "import scipy\n",
    "import pandas as pd\n",
    "import os\n",
    "# from tqdm import trange\n",
    "from tqdm.auto import tqdm\n",
    "from empirical_updates import SecondOrderEmpirical, FirstOrderEmpirical\n",
    "from gordon_updates import GordonUpdate\n",
    "import matplotlib.pyplot as plt\n",
    "import seaborn as sns\n",
    "sns.set_style('whitegrid')\n",
    "# sns.reset_orig()\n",
    "import matplotlib\n",
    "matplotlib.rc('font', **{'family': 'serif', 'serif': ['Computer Modern']})\n",
    "matplotlib.rc('text', usetex=True)\n",
    "\n",
    "params = {'figure.figsize': (12.0, 8.0),\n",
    "          'lines.linewidth': 2.,\n",
    "          'legend.fontsize': 'xx-large',\n",
    "          'axes.labelsize': 'x-large',\n",
    "          'axes.titlesize': 'x-large',\n",
    "          'xtick.labelsize': 'x-large',\n",
    "          'ytick.labelsize': 'x-large'}\n",
    "\n",
    "plt.rcParams.update(params)\n",
    "%load_ext autoreload\n",
    "%autoreload 2"
   ]
  },
  {
   "cell_type": "markdown",
   "id": "acute-neighbor",
   "metadata": {},
   "source": [
    "## Iterate averaging"
   ]
  },
  {
   "cell_type": "code",
   "execution_count": 31,
   "id": "equal-white",
   "metadata": {
    "scrolled": true
   },
   "outputs": [
    {
     "data": {
      "application/vnd.jupyter.widget-view+json": {
       "model_id": "",
       "version_major": 2,
       "version_minor": 0
      },
      "text/plain": [
       "  0%|          | 0/16 [00:00<?, ?it/s]"
      ]
     },
     "metadata": {},
     "output_type": "display_data"
    },
    {
     "name": "stdout",
     "output_type": "stream",
     "text": [
      "found a good instance!\n"
     ]
    },
    {
     "data": {
      "application/vnd.jupyter.widget-view+json": {
       "model_id": "50f318cff59445c68be87c5761b1ceee",
       "version_major": 2,
       "version_minor": 0
      },
      "text/plain": [
       "  0%|          | 0/10 [00:00<?, ?it/s]"
      ]
     },
     "metadata": {},
     "output_type": "display_data"
    },
    {
     "data": {
      "application/vnd.jupyter.widget-view+json": {
       "model_id": "",
       "version_major": 2,
       "version_minor": 0
      },
      "text/plain": [
       "  0%|          | 0/16 [00:00<?, ?it/s]"
      ]
     },
     "metadata": {},
     "output_type": "display_data"
    },
    {
     "data": {
      "application/vnd.jupyter.widget-view+json": {
       "model_id": "",
       "version_major": 2,
       "version_minor": 0
      },
      "text/plain": [
       "  0%|          | 0/16 [00:00<?, ?it/s]"
      ]
     },
     "metadata": {},
     "output_type": "display_data"
    },
    {
     "data": {
      "application/vnd.jupyter.widget-view+json": {
       "model_id": "",
       "version_major": 2,
       "version_minor": 0
      },
      "text/plain": [
       "  0%|          | 0/16 [00:00<?, ?it/s]"
      ]
     },
     "metadata": {},
     "output_type": "display_data"
    },
    {
     "data": {
      "application/vnd.jupyter.widget-view+json": {
       "model_id": "",
       "version_major": 2,
       "version_minor": 0
      },
      "text/plain": [
       "  0%|          | 0/16 [00:00<?, ?it/s]"
      ]
     },
     "metadata": {},
     "output_type": "display_data"
    },
    {
     "data": {
      "application/vnd.jupyter.widget-view+json": {
       "model_id": "",
       "version_major": 2,
       "version_minor": 0
      },
      "text/plain": [
       "  0%|          | 0/16 [00:00<?, ?it/s]"
      ]
     },
     "metadata": {},
     "output_type": "display_data"
    },
    {
     "data": {
      "application/vnd.jupyter.widget-view+json": {
       "model_id": "",
       "version_major": 2,
       "version_minor": 0
      },
      "text/plain": [
       "  0%|          | 0/16 [00:00<?, ?it/s]"
      ]
     },
     "metadata": {},
     "output_type": "display_data"
    },
    {
     "data": {
      "application/vnd.jupyter.widget-view+json": {
       "model_id": "",
       "version_major": 2,
       "version_minor": 0
      },
      "text/plain": [
       "  0%|          | 0/16 [00:00<?, ?it/s]"
      ]
     },
     "metadata": {},
     "output_type": "display_data"
    },
    {
     "data": {
      "application/vnd.jupyter.widget-view+json": {
       "model_id": "",
       "version_major": 2,
       "version_minor": 0
      },
      "text/plain": [
       "  0%|          | 0/16 [00:00<?, ?it/s]"
      ]
     },
     "metadata": {},
     "output_type": "display_data"
    },
    {
     "data": {
      "application/vnd.jupyter.widget-view+json": {
       "model_id": "",
       "version_major": 2,
       "version_minor": 0
      },
      "text/plain": [
       "  0%|          | 0/16 [00:00<?, ?it/s]"
      ]
     },
     "metadata": {},
     "output_type": "display_data"
    },
    {
     "data": {
      "application/vnd.jupyter.widget-view+json": {
       "model_id": "",
       "version_major": 2,
       "version_minor": 0
      },
      "text/plain": [
       "  0%|          | 0/16 [00:00<?, ?it/s]"
      ]
     },
     "metadata": {},
     "output_type": "display_data"
    }
   ],
   "source": [
    "### Set problem parameters for AM\n",
    "delta = 100 # over sampling\n",
    "sigma = 10e-6 # noise std\n",
    "d = 800 # dimension\n",
    "thetastar = np.random.normal(0, 1, d)\n",
    "thetastar = thetastar/np.linalg.norm(thetastar) # ground truth\n",
    "\n",
    "AM = SecondOrderEmpirical(thetastar, delta, sigma) # second order updates\n",
    "AM.initialize() # initialize with eps correlation\n",
    "thetacur_PR = AM.thetainit # set the initial theta\n",
    "T = 16 # number of iterations\n",
    "\n",
    "### Make the gordon lists\n",
    "Gordon = GordonUpdate(sigma, delta)\n",
    "alpha_list_gor_AM_PR, beta_list_gor_AM_PR = [], []\n",
    "alpha_list_gor_AM_PR.append(AM.get_alpha(thetacur_PR))\n",
    "beta_list_gor_AM_PR.append(AM.get_beta(thetacur_PR))\n",
    "\n",
    "### Find converging instance \n",
    "converging = False\n",
    "while not converging:\n",
    "    AM.initialize()\n",
    "    thetacur_PR = AM.thetainit\n",
    "    \n",
    "    ### Iterate and update\n",
    "    for t in tqdm(range(T), leave=False):\n",
    "        ### Resample the data\n",
    "        AM.update_data()\n",
    "\n",
    "        ### Iterate and update PR\n",
    "        thetacur_PR = AM.iterate_PR(thetacur_PR) \n",
    "    if np.linalg.norm(thetacur_PR - thetastar) < 0.01:\n",
    "        converging = True\n",
    "print('found a good instance!')\n",
    "        \n",
    "### Run AM from this initialization\n",
    "num_trials = 10\n",
    "alpha_AM_PR, beta_AM_PR = [], []\n",
    "for _ in tqdm(range(num_trials)):\n",
    "    ### Make the empirical lists\n",
    "    alpha_list_AM_PR, beta_list_AM_PR = [], []\n",
    "    alpha_list_AM_PR.append(AM.get_alpha(AM.thetainit)) # initial alpha value\n",
    "    beta_list_AM_PR.append(AM.get_beta(AM.thetainit)) # initial beta value\n",
    "    \n",
    "    thetacur_PR = AM.thetainit\n",
    "    \n",
    "    ### Iterate and update\n",
    "    for t in tqdm(range(T), leave=False):\n",
    "        ### Resample the data\n",
    "        AM.update_data()\n",
    "\n",
    "        ### Iterate and update PR\n",
    "        thetacur_PR = AM.iterate_PR(thetacur_PR) \n",
    "        alpha_list_AM_PR.append(AM.get_alpha(thetacur_PR))\n",
    "        beta_list_AM_PR.append(AM.get_beta(thetacur_PR)) \n",
    "        \n",
    "    alpha_list_AM_PR = np.array(alpha_list_AM_PR)\n",
    "    beta_list_AM_PR = np.array(beta_list_AM_PR)\n",
    "    dist_list_AM_PR = np.sqrt(beta_list_AM_PR**2 + (alpha_list_AM_PR  - 1)**2)\n",
    "    if dist_list_AM_PR[-1] < 0.01:\n",
    "        alpha_AM_PR.append(alpha_list_AM_PR)\n",
    "        beta_AM_PR.append(beta_list_AM_PR)\n",
    "alpha_AM_PR, beta_AM_PR = np.array(alpha_AM_PR), np.array(beta_AM_PR)\n",
    "\n",
    "### Make the distance list, average list, and empirical envelope\n",
    "dist_list_AM_PR = np.sqrt(beta_AM_PR**2 + (alpha_AM_PR  - 1)**2)\n",
    "avg_dist_AM_PR = np.mean(dist_list_AM_PR, axis=0)\n",
    "upper_AM_PR = np.percentile(dist_list_AM_PR, 97.5, axis=0)\n",
    "lower_AM_PR = np.percentile(dist_list_AM_PR, 2.5, axis=0)"
   ]
  },
  {
   "cell_type": "code",
   "execution_count": 32,
   "id": "direct-monroe",
   "metadata": {},
   "outputs": [
    {
     "data": {
      "application/vnd.jupyter.widget-view+json": {
       "model_id": "001118d042174a17a6c55deb730a5b57",
       "version_major": 2,
       "version_minor": 0
      },
      "text/plain": [
       "  0%|          | 0/16 [00:00<?, ?it/s]"
      ]
     },
     "metadata": {},
     "output_type": "display_data"
    }
   ],
   "source": [
    "### Make the gordon list\n",
    "alpha_list_gor_AM_PR = [np.mean(alpha_AM_PR, axis=0)[0]]\n",
    "beta_list_gor_AM_PR = [np.mean(beta_AM_PR, axis=0)[0]]\n",
    "for t in tqdm(range(T)):\n",
    "    alpha_next_AM_PR, beta_next_AM_PR = Gordon.AM_PR_gordon(alpha_list_gor_AM_PR[-1], beta_list_gor_AM_PR[-1])\n",
    "    alpha_list_gor_AM_PR.append(alpha_next_AM_PR)\n",
    "    beta_list_gor_AM_PR.append(beta_next_AM_PR)\n",
    "\n",
    "alpha_list_gor_AM_PR, beta_list_gor_AM_PR = np.array(alpha_list_gor_AM_PR), np.array(beta_list_gor_AM_PR)\n",
    "dist_list_gor_AM_PR = np.sqrt(beta_list_gor_AM_PR**2 + (alpha_list_gor_AM_PR - 1)**2)"
   ]
  },
  {
   "cell_type": "code",
   "execution_count": 34,
   "id": "favorite-inflation",
   "metadata": {},
   "outputs": [
    {
     "data": {
      "image/png": "[encoded data removed]",
      "text/plain": [
       "<Figure size 864x576 with 1 Axes>"
      ]
     },
     "metadata": {},
     "output_type": "display_data"
    }
   ],
   "source": [
    "### Plotting\n",
    "plt.plot(np.arange(T + 1), np.abs(avg_dist_AM_PR)\\\n",
    "         , marker='o', linewidth=1, color = 'steelblue', label='Empirical AM')\n",
    "# plt.plot(np.arange(T + 1), np.abs(avg_dist_GD_PR)\\\n",
    "#          , marker='o', linewidth=1, color = 'mediumseagreen', label='Empirical GD')\n",
    "plt.plot(np.arange(T + 1), np.abs(dist_list_gor_AM_PR)\\\n",
    "         , marker='*', linewidth=1, color = 'dimgray', label='AM Gordon')\n",
    "# plt.plot(np.arange(T + 1), np.abs(dist_list_gor_GD_PR)\\\n",
    "#          , marker='*', linewidth=1, color = 'dimgray', label='GD Gordon')\n",
    "plt.fill_between(np.arange(T+1), lower_AM_PR, upper_AM_PR, color='steelblue', alpha=0.2)\n",
    "# plt.fill_between(np.arange(T+1), lower_GD_PR, upper_GD_PR, color='mediumseagreen', alpha=0.2)\n",
    "plt.semilogy()\n",
    "plt.ylabel(r'$\\ell_2$ distance between iterate and ground truth')\n",
    "plt.xlabel('Iteration')\n",
    "plt.title('Alternating minimization for phase retrieval; high noise')\n",
    "plt.legend()\n",
    "# plt.savefig('global_PR.pdf')"
   ]
  },
  {
   "cell_type": "markdown",
   "id": "silent-ready",
   "metadata": {},
   "source": [
    "## Gradient descent"
   ]
  },
  {
   "cell_type": "code",
   "execution_count": 35,
   "id": "animated-mississippi",
   "metadata": {},
   "outputs": [
    {
     "data": {
      "application/vnd.jupyter.widget-view+json": {
       "model_id": "0a02c2f879a84ea2b8105920eb931d41",
       "version_major": 2,
       "version_minor": 0
      },
      "text/plain": [
       "  0%|          | 0/10 [00:00<?, ?it/s]"
      ]
     },
     "metadata": {},
     "output_type": "display_data"
    },
    {
     "data": {
      "application/vnd.jupyter.widget-view+json": {
       "model_id": "",
       "version_major": 2,
       "version_minor": 0
      },
      "text/plain": [
       "  0%|          | 0/16 [00:00<?, ?it/s]"
      ]
     },
     "metadata": {},
     "output_type": "display_data"
    },
    {
     "data": {
      "application/vnd.jupyter.widget-view+json": {
       "model_id": "",
       "version_major": 2,
       "version_minor": 0
      },
      "text/plain": [
       "  0%|          | 0/16 [00:00<?, ?it/s]"
      ]
     },
     "metadata": {},
     "output_type": "display_data"
    },
    {
     "data": {
      "application/vnd.jupyter.widget-view+json": {
       "model_id": "",
       "version_major": 2,
       "version_minor": 0
      },
      "text/plain": [
       "  0%|          | 0/16 [00:00<?, ?it/s]"
      ]
     },
     "metadata": {},
     "output_type": "display_data"
    },
    {
     "data": {
      "application/vnd.jupyter.widget-view+json": {
       "model_id": "",
       "version_major": 2,
       "version_minor": 0
      },
      "text/plain": [
       "  0%|          | 0/16 [00:00<?, ?it/s]"
      ]
     },
     "metadata": {},
     "output_type": "display_data"
    },
    {
     "data": {
      "application/vnd.jupyter.widget-view+json": {
       "model_id": "",
       "version_major": 2,
       "version_minor": 0
      },
      "text/plain": [
       "  0%|          | 0/16 [00:00<?, ?it/s]"
      ]
     },
     "metadata": {},
     "output_type": "display_data"
    },
    {
     "data": {
      "application/vnd.jupyter.widget-view+json": {
       "model_id": "",
       "version_major": 2,
       "version_minor": 0
      },
      "text/plain": [
       "  0%|          | 0/16 [00:00<?, ?it/s]"
      ]
     },
     "metadata": {},
     "output_type": "display_data"
    },
    {
     "data": {
      "application/vnd.jupyter.widget-view+json": {
       "model_id": "",
       "version_major": 2,
       "version_minor": 0
      },
      "text/plain": [
       "  0%|          | 0/16 [00:00<?, ?it/s]"
      ]
     },
     "metadata": {},
     "output_type": "display_data"
    },
    {
     "data": {
      "application/vnd.jupyter.widget-view+json": {
       "model_id": "",
       "version_major": 2,
       "version_minor": 0
      },
      "text/plain": [
       "  0%|          | 0/16 [00:00<?, ?it/s]"
      ]
     },
     "metadata": {},
     "output_type": "display_data"
    },
    {
     "data": {
      "application/vnd.jupyter.widget-view+json": {
       "model_id": "",
       "version_major": 2,
       "version_minor": 0
      },
      "text/plain": [
       "  0%|          | 0/16 [00:00<?, ?it/s]"
      ]
     },
     "metadata": {},
     "output_type": "display_data"
    },
    {
     "data": {
      "application/vnd.jupyter.widget-view+json": {
       "model_id": "",
       "version_major": 2,
       "version_minor": 0
      },
      "text/plain": [
       "  0%|          | 0/16 [00:00<?, ?it/s]"
      ]
     },
     "metadata": {},
     "output_type": "display_data"
    },
    {
     "data": {
      "application/vnd.jupyter.widget-view+json": {
       "model_id": "ac7c9fa832054d6baaa520249bb10d0b",
       "version_major": 2,
       "version_minor": 0
      },
      "text/plain": [
       "  0%|          | 0/16 [00:00<?, ?it/s]"
      ]
     },
     "metadata": {},
     "output_type": "display_data"
    }
   ],
   "source": [
    "### First order\n",
    "GD = FirstOrderEmpirical(thetastar, delta, sigma)\n",
    "num_trials = 10\n",
    "alpha_GD_PR, beta_GD_PR = [], []\n",
    "for _ in tqdm(range(num_trials)):\n",
    "    ### Make the empirical lists\n",
    "    alpha_list_GD_PR, beta_list_GD_PR = [], []\n",
    "    alpha_list_GD_PR.append(GD.get_alpha(AM.thetainit)) # initial alpha value\n",
    "    beta_list_GD_PR.append(GD.get_beta(AM.thetainit)) # initial beta value\n",
    "    \n",
    "    thetacur_PR = AM.thetainit\n",
    "    ### Iterate and update\n",
    "    for t in tqdm(range(T), leave=False):\n",
    "        ### Resample the data\n",
    "        GD.update_data()\n",
    "\n",
    "        ### Iterate and update PR\n",
    "        thetacur_PR = GD.iterate_PR(thetacur_PR, 0.5) \n",
    "        alpha_list_GD_PR.append(AM.get_alpha(thetacur_PR))\n",
    "        beta_list_GD_PR.append(AM.get_beta(thetacur_PR)) \n",
    "\n",
    "    alpha_list_GD_PR = np.array(alpha_list_GD_PR)\n",
    "    beta_list_GD_PR = np.array(beta_list_GD_PR)\n",
    "    alpha_GD_PR.append(alpha_list_GD_PR)\n",
    "    beta_GD_PR.append(beta_list_GD_PR)\n",
    "alpha_GD_PR, beta_GD_PR = np.array(alpha_GD_PR), np.array(beta_GD_PR)\n",
    "\n",
    "### Make the distance list, average list, and empirical envelope\n",
    "dist_list_GD_PR = np.sqrt(beta_GD_PR**2 + (alpha_GD_PR  - 1)**2)\n",
    "avg_dist_GD_PR = np.mean(dist_list_GD_PR, axis=0)\n",
    "upper_GD_PR = np.percentile(dist_list_GD_PR, 97.5, axis=0)\n",
    "lower_GD_PR = np.percentile(dist_list_GD_PR, 2.5, axis=0)\n",
    "\n",
    "### Gordon data GD\n",
    "alpha_list_gor_GD_PR, beta_list_gor_GD_PR = [], []\n",
    "alpha_list_gor_GD_PR.append(AM.get_alpha(AM.thetainit))\n",
    "beta_list_gor_GD_PR.append(AM.get_beta(AM.thetainit))\n",
    "for t in tqdm(range(T)):\n",
    "    alpha_next_GD_PR, beta_next_GD_PR = Gordon.GD_PR_gordon(alpha_list_gor_GD_PR[-1], beta_list_gor_GD_PR[-1], 0.5)\n",
    "    alpha_list_gor_GD_PR.append(alpha_next_GD_PR)\n",
    "    beta_list_gor_GD_PR.append(beta_next_GD_PR)\n",
    "\n",
    "alpha_list_gor_GD_PR, beta_list_gor_GD_PR = np.array(alpha_list_gor_GD_PR), np.array(beta_list_gor_GD_PR)\n",
    "dist_list_gor_GD_PR = np.sqrt(beta_list_gor_GD_PR**2 + (alpha_list_gor_GD_PR - 1)**2)"
   ]
  },
  {
   "cell_type": "code",
   "execution_count": 36,
   "id": "infrared-perth",
   "metadata": {},
   "outputs": [
    {
     "data": {
      "text/plain": [
       "<matplotlib.legend.Legend at 0x120132a00>"
      ]
     },
     "execution_count": 36,
     "metadata": {},
     "output_type": "execute_result"
    },
    {
     "data": {
      "image/png": "[encoded data removed]",
      "text/plain": [
       "<Figure size 864x576 with 1 Axes>"
      ]
     },
     "metadata": {},
     "output_type": "display_data"
    }
   ],
   "source": [
    "plt.plot(np.arange(T + 1), np.abs(avg_dist_GD_PR)\\\n",
    "         , marker='o', linewidth=1, color = 'steelblue', label='Empirical AM')\n",
    "# plt.plot(np.arange(T + 1), np.abs(avg_dist_GD_PR)\\\n",
    "#          , marker='o', linewidth=1, color = 'mediumseagreen', label='Empirical GD')\n",
    "plt.plot(np.arange(T + 1), np.abs(dist_list_gor_GD_PR)\\\n",
    "         , marker='*', linewidth=1, color = 'dimgray', label='AM Gordon')\n",
    "# plt.plot(np.arange(T + 1), np.abs(dist_list_gor_GD_PR)\\\n",
    "#          , marker='*', linewidth=1, color = 'dimgray', label='GD Gordon')\n",
    "plt.fill_between(np.arange(T+1), lower_GD_PR, upper_GD_PR, color='steelblue', alpha=0.2)\n",
    "# plt.fill_between(np.arange(T+1), lower_GD_PR, upper_GD_PR, color='mediumseagreen', alpha=0.2)\n",
    "plt.semilogy()\n",
    "plt.ylabel(r'$\\ell_2$ distance between iterate and ground truth')\n",
    "plt.xlabel('Iteration')\n",
    "plt.title('Alternating minimization for phase retrieval; high noise')\n",
    "plt.legend()"
   ]
  },
  {
   "cell_type": "code",
   "execution_count": 37,
   "id": "photographic-sarah",
   "metadata": {},
   "outputs": [],
   "source": [
    "### Save data in .dat file\n",
    "data = np.array([np.arange(T+1)\\\n",
    "                 , avg_dist_AM_PR\\\n",
    "                 , lower_AM_PR\\\n",
    "                 , upper_AM_PR\\\n",
    "                 , dist_list_gor_AM_PR\\\n",
    "                 , avg_dist_GD_PR\\\n",
    "                 , lower_GD_PR\\\n",
    "                 , upper_GD_PR\\\n",
    "                 , dist_list_gor_GD_PR]).transpose()\n",
    "np.savetxt('global-PR', data, \\\n",
    "            fmt=['%.0f'\\\n",
    "                 , '%.8f', '%.8f', '%.8f', '%.8f'\\\n",
    "                 , '%.8f', '%.8f', '%.8f', '%.8f'], \\\n",
    "            header='iter avgAM lowerAM upperAM gorAM avgGD lowerGD upperGD gorGD', \\\n",
    "            comments='# ')"
   ]
  },
  {
   "cell_type": "code",
   "execution_count": null,
   "id": "stylish-scanning",
   "metadata": {},
   "outputs": [],
   "source": []
  }
 ],
 "metadata": {
  "kernelspec": {
   "display_name": "Python 3",
   "language": "python",
   "name": "python3"
  },
  "language_info": {
   "codemirror_mode": {
    "name": "ipython",
    "version": 3
   },
   "file_extension": ".py",
   "mimetype": "text/x-python",
   "name": "python",
   "nbconvert_exporter": "python",
   "pygments_lexer": "ipython3",
   "version": "3.9.0"
  }
 },
 "nbformat": 4,
 "nbformat_minor": 5
}
